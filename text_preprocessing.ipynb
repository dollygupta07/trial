{
  "nbformat": 4,
  "nbformat_minor": 0,
  "metadata": {
    "colab": {
      "name": "text_preprocessing.ipynb",
      "provenance": [],
      "collapsed_sections": []
    },
    "kernelspec": {
      "name": "python3",
      "display_name": "Python 3"
    }
  },
  "cells": [
    {
      "cell_type": "code",
      "metadata": {
        "id": "amStbsUPJtVX",
        "colab": {
          "base_uri": "https://localhost:8080/"
        },
        "outputId": "570a3de7-734f-4570-da39-183df2f5b8cf"
      },
      "source": [
        "import re\n",
        "import pandas as pd \n",
        "import numpy as np \n",
        "import matplotlib.pyplot as plt \n",
        "import seaborn as sns\n",
        "import string\n",
        "import nltk\n",
        "import warnings \n",
        "nltk.download('punkt')\n",
        "nltk.download('stopwords')\n",
        "nltk.download('averaged_perceptron_tagger')\n",
        "nltk.download('wordnet')\n",
        "warnings.filterwarnings(\"ignore\", category=DeprecationWarning)\n",
        "\n",
        "%matplotlib inline"
      ],
      "execution_count": null,
      "outputs": [
        {
          "output_type": "stream",
          "text": [
            "[nltk_data] Downloading package punkt to /root/nltk_data...\n",
            "[nltk_data]   Package punkt is already up-to-date!\n",
            "[nltk_data] Downloading package stopwords to /root/nltk_data...\n",
            "[nltk_data]   Package stopwords is already up-to-date!\n",
            "[nltk_data] Downloading package averaged_perceptron_tagger to\n",
            "[nltk_data]     /root/nltk_data...\n",
            "[nltk_data]   Package averaged_perceptron_tagger is already up-to-\n",
            "[nltk_data]       date!\n",
            "[nltk_data] Downloading package wordnet to /root/nltk_data...\n",
            "[nltk_data]   Package wordnet is already up-to-date!\n"
          ],
          "name": "stdout"
        }
      ]
    },
    {
      "cell_type": "markdown",
      "metadata": {
        "id": "t8N7twWcYe1H"
      },
      "source": [
        "**Lowercase**"
      ]
    },
    {
      "cell_type": "code",
      "metadata": {
        "colab": {
          "base_uri": "https://localhost:8080/"
        },
        "id": "4SEOBWBXFB8F",
        "outputId": "ce97a85e-d7a4-4a4d-e4bc-fce874fc37ce"
      },
      "source": [
        "#text = \"It is a truth universally acknowledged, that a single man in possession of a good fortune, must be in want of a wife.\"\n",
        "text = \"I ran. He ran. She is running. Will they stop running? I talked. She was talking. They talked to them about running. Who ran to the talking runner? Sebastian, Nicolas, Alejandro and Jeronimo are going to the store tomorrow morning! something is! wrong with.,; this :: sentence. I can't do this anymore. I didn't know them. Why couldn't you have dinner at the restaurant? My favorite movie franchises, in order: Indiana Jones; Marvel Cinematic Universe; Star Wars; Back to the Future; Harry Potter. Don't do it.... Just don't. Billy! I know what you're doing. This is a great little \"\n",
        "\n",
        "text = text.lower()\n",
        "print(text)"
      ],
      "execution_count": null,
      "outputs": [
        {
          "output_type": "stream",
          "text": [
            "i ran. he ran. she is running. will they stop running? i talked. she was talking. they talked to them about running. who ran to the talking runner? sebastian, nicolas, alejandro and jeronimo are going to the store tomorrow morning! something is! wrong with.,; this :: sentence. i can't do this anymore. i didn't know them. why couldn't you have dinner at the restaurant? my favorite movie franchises, in order: indiana jones; marvel cinematic universe; star wars; back to the future; harry potter. don't do it.... just don't. billy! i know what you're doing. this is a great little \n"
          ],
          "name": "stdout"
        }
      ]
    },
    {
      "cell_type": "markdown",
      "metadata": {
        "id": "zCHcoMOkYqPL"
      },
      "source": [
        "**Removing** **Punctutation**"
      ]
    },
    {
      "cell_type": "code",
      "metadata": {
        "colab": {
          "base_uri": "https://localhost:8080/"
        },
        "id": "-bRqaGVpWvFp",
        "outputId": "14296d97-ef2a-488e-8134-05e932f29204"
      },
      "source": [
        "import string\n",
        "print(string.punctuation)"
      ],
      "execution_count": null,
      "outputs": [
        {
          "output_type": "stream",
          "text": [
            "!\"#$%&'()*+,-./:;<=>?@[\\]^_`{|}~\n"
          ],
          "name": "stdout"
        }
      ]
    },
    {
      "cell_type": "code",
      "metadata": {
        "colab": {
          "base_uri": "https://localhost:8080/"
        },
        "id": "FpzIfKZZW05q",
        "outputId": "c291f961-7288-40cb-b48a-e072ea860517"
      },
      "source": [
        "text_p = \"\".join([char for char in text if char not in string.punctuation])\n",
        "print(text_p)"
      ],
      "execution_count": null,
      "outputs": [
        {
          "output_type": "stream",
          "text": [
            "i run btter than you he ran she is running will they stop running i talked she was talking they talked to them about running who ran to the talking runner sebastian nicolas alejandro and jeronimo are going to the store tomorrow morning something is wrong with this  sentence i cant do this anymore i didnt know them why couldnt you have dinner at the restaurant my favorite movie franchises in order indiana jones marvel cinematic universe star wars back to the future harry potter dont do it just dont billy i know what youre doing this is a great little \n"
          ],
          "name": "stdout"
        }
      ]
    },
    {
      "cell_type": "markdown",
      "metadata": {
        "id": "6xAaVhRhYvmv"
      },
      "source": [
        "**Tokenization**"
      ]
    },
    {
      "cell_type": "code",
      "metadata": {
        "colab": {
          "base_uri": "https://localhost:8080/"
        },
        "id": "7XaAyQaHW7_2",
        "outputId": "bb1d46ce-0457-4d9e-a933-005caeed6c28"
      },
      "source": [
        "from nltk import word_tokenize\n",
        "\n",
        "words = word_tokenize(text_p)\n",
        "print(words)"
      ],
      "execution_count": null,
      "outputs": [
        {
          "output_type": "stream",
          "text": [
            "['i', 'run', 'btter', 'than', 'you', 'he', 'ran', 'she', 'is', 'running', 'will', 'they', 'stop', 'running', 'i', 'talked', 'she', 'was', 'talking', 'they', 'talked', 'to', 'them', 'about', 'running', 'who', 'ran', 'to', 'the', 'talking', 'runner', 'sebastian', 'nicolas', 'alejandro', 'and', 'jeronimo', 'are', 'going', 'to', 'the', 'store', 'tomorrow', 'morning', 'something', 'is', 'wrong', 'with', 'this', 'sentence', 'i', 'cant', 'do', 'this', 'anymore', 'i', 'didnt', 'know', 'them', 'why', 'couldnt', 'you', 'have', 'dinner', 'at', 'the', 'restaurant', 'my', 'favorite', 'movie', 'franchises', 'in', 'order', 'indiana', 'jones', 'marvel', 'cinematic', 'universe', 'star', 'wars', 'back', 'to', 'the', 'future', 'harry', 'potter', 'dont', 'do', 'it', 'just', 'dont', 'billy', 'i', 'know', 'what', 'youre', 'doing', 'this', 'is', 'a', 'great', 'little']\n"
          ],
          "name": "stdout"
        }
      ]
    },
    {
      "cell_type": "markdown",
      "metadata": {
        "id": "vSxLosJ6o9Qn"
      },
      "source": [
        ""
      ]
    },
    {
      "cell_type": "markdown",
      "metadata": {
        "id": "PqBdINV2Y3es"
      },
      "source": [
        "**Removing** **Stopwords**\n"
      ]
    },
    {
      "cell_type": "code",
      "metadata": {
        "colab": {
          "base_uri": "https://localhost:8080/"
        },
        "id": "_eEGyMMsXgI9",
        "outputId": "987fda7e-9341-4676-a6c2-e39c0957c4d7"
      },
      "source": [
        "from nltk.corpus import stopwords\n",
        "stop_words = stopwords.words('english')\n",
        "print(stop_words)"
      ],
      "execution_count": null,
      "outputs": [
        {
          "output_type": "stream",
          "text": [
            "['i', 'me', 'my', 'myself', 'we', 'our', 'ours', 'ourselves', 'you', \"you're\", \"you've\", \"you'll\", \"you'd\", 'your', 'yours', 'yourself', 'yourselves', 'he', 'him', 'his', 'himself', 'she', \"she's\", 'her', 'hers', 'herself', 'it', \"it's\", 'its', 'itself', 'they', 'them', 'their', 'theirs', 'themselves', 'what', 'which', 'who', 'whom', 'this', 'that', \"that'll\", 'these', 'those', 'am', 'is', 'are', 'was', 'were', 'be', 'been', 'being', 'have', 'has', 'had', 'having', 'do', 'does', 'did', 'doing', 'a', 'an', 'the', 'and', 'but', 'if', 'or', 'because', 'as', 'until', 'while', 'of', 'at', 'by', 'for', 'with', 'about', 'against', 'between', 'into', 'through', 'during', 'before', 'after', 'above', 'below', 'to', 'from', 'up', 'down', 'in', 'out', 'on', 'off', 'over', 'under', 'again', 'further', 'then', 'once', 'here', 'there', 'when', 'where', 'why', 'how', 'all', 'any', 'both', 'each', 'few', 'more', 'most', 'other', 'some', 'such', 'no', 'nor', 'not', 'only', 'own', 'same', 'so', 'than', 'too', 'very', 's', 't', 'can', 'will', 'just', 'don', \"don't\", 'should', \"should've\", 'now', 'd', 'll', 'm', 'o', 're', 've', 'y', 'ain', 'aren', \"aren't\", 'couldn', \"couldn't\", 'didn', \"didn't\", 'doesn', \"doesn't\", 'hadn', \"hadn't\", 'hasn', \"hasn't\", 'haven', \"haven't\", 'isn', \"isn't\", 'ma', 'mightn', \"mightn't\", 'mustn', \"mustn't\", 'needn', \"needn't\", 'shan', \"shan't\", 'shouldn', \"shouldn't\", 'wasn', \"wasn't\", 'weren', \"weren't\", 'won', \"won't\", 'wouldn', \"wouldn't\"]\n"
          ],
          "name": "stdout"
        }
      ]
    },
    {
      "cell_type": "code",
      "metadata": {
        "colab": {
          "base_uri": "https://localhost:8080/"
        },
        "id": "IchOL4X6XygR",
        "outputId": "446b2528-370c-4622-d3b4-82e3c637690a"
      },
      "source": [
        "filtered_words = [word for word in words if word not in stop_words]\n",
        "print(filtered_words)"
      ],
      "execution_count": null,
      "outputs": [
        {
          "output_type": "stream",
          "text": [
            "['run', 'btter', 'ran', 'running', 'stop', 'running', 'talked', 'talking', 'talked', 'running', 'ran', 'talking', 'runner', 'sebastian', 'nicolas', 'alejandro', 'jeronimo', 'going', 'store', 'tomorrow', 'morning', 'something', 'wrong', 'sentence', 'cant', 'anymore', 'didnt', 'know', 'couldnt', 'dinner', 'restaurant', 'favorite', 'movie', 'franchises', 'order', 'indiana', 'jones', 'marvel', 'cinematic', 'universe', 'star', 'wars', 'back', 'future', 'harry', 'potter', 'dont', 'dont', 'billy', 'know', 'youre', 'great', 'little']\n"
          ],
          "name": "stdout"
        }
      ]
    },
    {
      "cell_type": "markdown",
      "metadata": {
        "id": "tKZUux7FY8hr"
      },
      "source": [
        "**Stemming**"
      ]
    },
    {
      "cell_type": "code",
      "metadata": {
        "colab": {
          "base_uri": "https://localhost:8080/"
        },
        "id": "LVbI5auAX7uR",
        "outputId": "908b9997-b96a-414e-dba4-5adbe640547d"
      },
      "source": [
        "from nltk.stem.porter import PorterStemmer\n",
        "stemmer = PorterStemmer()\n",
        "stemmed = [stemmer.stem(word) for word in filtered_words]\n",
        "print(stemmed)"
      ],
      "execution_count": null,
      "outputs": [
        {
          "output_type": "stream",
          "text": [
            "['run', 'btter', 'ran', 'run', 'stop', 'run', 'talk', 'talk', 'talk', 'run', 'ran', 'talk', 'runner', 'sebastian', 'nicola', 'alejandro', 'jeronimo', 'go', 'store', 'tomorrow', 'morn', 'someth', 'wrong', 'sentenc', 'cant', 'anymor', 'didnt', 'know', 'couldnt', 'dinner', 'restaur', 'favorit', 'movi', 'franchis', 'order', 'indiana', 'jone', 'marvel', 'cinemat', 'univers', 'star', 'war', 'back', 'futur', 'harri', 'potter', 'dont', 'dont', 'billi', 'know', 'your', 'great', 'littl']\n"
          ],
          "name": "stdout"
        }
      ]
    },
    {
      "cell_type": "markdown",
      "metadata": {
        "id": "AiMWGLEPerNW"
      },
      "source": [
        "**Lemmatization**"
      ]
    },
    {
      "cell_type": "code",
      "metadata": {
        "colab": {
          "base_uri": "https://localhost:8080/"
        },
        "id": "snsXmF-aapmw",
        "outputId": "a6476bb8-b25f-40db-8922-903334c19fc5"
      },
      "source": [
        "from nltk.stem.wordnet import WordNetLemmatizer\n",
        "lemmatizer = WordNetLemmatizer()\n",
        "lemmatized = [lemmatizer.lemmatize(word) for word in filtered_words]\n",
        "print(lemmatized)"
      ],
      "execution_count": null,
      "outputs": [
        {
          "output_type": "stream",
          "text": [
            "['run', 'btter', 'ran', 'running', 'stop', 'running', 'talked', 'talking', 'talked', 'running', 'ran', 'talking', 'runner', 'sebastian', 'nicolas', 'alejandro', 'jeronimo', 'going', 'store', 'tomorrow', 'morning', 'something', 'wrong', 'sentence', 'cant', 'anymore', 'didnt', 'know', 'couldnt', 'dinner', 'restaurant', 'favorite', 'movie', 'franchise', 'order', 'indiana', 'jones', 'marvel', 'cinematic', 'universe', 'star', 'war', 'back', 'future', 'harry', 'potter', 'dont', 'dont', 'billy', 'know', 'youre', 'great', 'little']\n"
          ],
          "name": "stdout"
        }
      ]
    },
    {
      "cell_type": "markdown",
      "metadata": {
        "id": "1KEYzVAxaJO4"
      },
      "source": [
        "**POS Tagger**"
      ]
    },
    {
      "cell_type": "code",
      "metadata": {
        "colab": {
          "base_uri": "https://localhost:8080/"
        },
        "id": "m6EDdIkwYF4a",
        "outputId": "e21dfb97-cae5-40be-c662-79e46af8a9d2"
      },
      "source": [
        "from nltk import pos_tag\n",
        "pos = pos_tag(filtered_words)\n",
        "print(pos)"
      ],
      "execution_count": null,
      "outputs": [
        {
          "output_type": "stream",
          "text": [
            "[('run', 'VB'), ('btter', 'NN'), ('ran', 'NN'), ('running', 'VBG'), ('stop', 'JJ'), ('running', 'NN'), ('talked', 'VBD'), ('talking', 'VBG'), ('talked', 'VBD'), ('running', 'VBG'), ('ran', 'NN'), ('talking', 'VBG'), ('runner', 'NN'), ('sebastian', 'JJ'), ('nicolas', 'NNS'), ('alejandro', 'VBP'), ('jeronimo', 'NN'), ('going', 'VBG'), ('store', 'NN'), ('tomorrow', 'NN'), ('morning', 'NN'), ('something', 'NN'), ('wrong', 'JJ'), ('sentence', 'NN'), ('cant', 'NN'), ('anymore', 'RB'), ('didnt', 'NN'), ('know', 'VBP'), ('couldnt', 'NN'), ('dinner', 'NN'), ('restaurant', 'JJ'), ('favorite', 'JJ'), ('movie', 'NN'), ('franchises', 'NNS'), ('order', 'NN'), ('indiana', 'NN'), ('jones', 'NNS'), ('marvel', 'RBR'), ('cinematic', 'JJ'), ('universe', 'JJ'), ('star', 'NN'), ('wars', 'NNS'), ('back', 'RB'), ('future', 'JJ'), ('harry', 'NN'), ('potter', 'NN'), ('dont', 'NN'), ('dont', 'VBZ'), ('billy', 'RB'), ('know', 'JJ'), ('youre', 'NN'), ('great', 'JJ'), ('little', 'JJ')]\n"
          ],
          "name": "stdout"
        }
      ]
    }
  ]
}